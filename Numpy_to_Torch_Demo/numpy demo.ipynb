{
 "cells": [
  {
   "cell_type": "code",
   "execution_count": 2,
   "metadata": {
    "collapsed": true
   },
   "outputs": [
    {
     "name": "stdout",
     "output_type": "stream",
     "text": [
      "x shape is:  (64, 1000)\n",
      "y shape is:  (64, 10)\n",
      "w1 shape is: (1000, 100)\n",
      "w2 shape is (100, 10)\n"
     ]
    }
   ],
   "source": [
    "import numpy as np\n",
    "\n",
    "# N is batch size; D_in is input dimension;\n",
    "# H is hidden dimension; D_out is output dimension.\n",
    "N, D_in, H, D_out = 64, 1000, 100, 10\n",
    "# 1000 -> 100 -> 10\n",
    "\n",
    "# Create random input and output data\n",
    "x = np.random.randn(N, D_in)\n",
    "y = np.random.randn(N, D_out)\n",
    "\n",
    "# Randomly initialize weights\n",
    "w1 = np.random.randn(D_in, H)\n",
    "w2 = np.random.randn(H, D_out)\n",
    "\n",
    "print('x shape is: ', x.shape)\n",
    "print('y shape is: ', y.shape)\n",
    "print('w1 shape is:', w1.shape)\n",
    "print('w2 shape is', w2.shape)"
   ]
  },
  {
   "cell_type": "code",
   "execution_count": 7,
   "outputs": [
    {
     "name": "stdout",
     "output_type": "stream",
     "text": [
      "0 1.5979496282193063e-23\n",
      "100 1.3188316470774099e-23\n",
      "200 1.0746238008581897e-23\n",
      "300 9.280000428139478e-24\n",
      "400 8.137797103859909e-24\n",
      "shape of grad_y_pred:  (64, 10)\n",
      "shape of grad_w2 (100, 10)\n",
      "shape of grad_h_relu (64, 100)\n",
      "shape of grad_w1:  (1000, 100)\n"
     ]
    }
   ],
   "source": [
    "learning_rate = 1e-6\n",
    "for t in range(500):\n",
    "    # Forward pass: compute predicted y\n",
    "    h = x.dot(w1)\n",
    "    # x multiply w\n",
    "    h_relu = np.maximum(h, 0)\n",
    "    # passing through a activation function, in this case, it is relu\n",
    "    # relu means y=x when x>0 and y=0 elsewhere\n",
    "    y_pred = h_relu.dot(w2)\n",
    "    # entering the next layer\n",
    "\n",
    "    # Compute and print loss\n",
    "    loss = np.square(y_pred - y).sum()\n",
    "    # here it is a square loss\n",
    "    if t % 100 == 0:\n",
    "        print(t, loss)\n",
    "\n",
    "    # Backprop to compute gradients of w1 and w2 with respect to loss\n",
    "    grad_y_pred = 2.0 * (y_pred - y) # gradient of the last layer\n",
    "    grad_w2 = h_relu.T.dot(grad_y_pred) # get the gradient of w2\n",
    "    grad_h_relu = grad_y_pred.dot(w2.T)\n",
    "    grad_h = grad_h_relu.copy()\n",
    "    grad_h[h < 0] = 0\n",
    "    grad_w1 = x.T.dot(grad_h) # get the gradient of w1\n",
    "\n",
    "    if t == 499:\n",
    "        print('shape of grad_y_pred: ', grad_y_pred.shape)\n",
    "        print('shape of grad_w2', grad_w2.shape)\n",
    "        print('shape of grad_h_relu', grad_h_relu.shape)\n",
    "        print('shape of grad_w1: ', grad_w1.shape)\n",
    "\n",
    "    # Update weights\n",
    "    w1 -= learning_rate * grad_w1\n",
    "    w2 -= learning_rate * grad_w2\n"
   ],
   "metadata": {
    "collapsed": false,
    "pycharm": {
     "name": "#%%\n"
    }
   }
  },
  {
   "cell_type": "code",
   "execution_count": null,
   "outputs": [],
   "source": [
    "\n"
   ],
   "metadata": {
    "collapsed": false,
    "pycharm": {
     "name": "#%%\n"
    }
   }
  }
 ],
 "metadata": {
  "kernelspec": {
   "display_name": "Python 3",
   "language": "python",
   "name": "python3"
  },
  "language_info": {
   "codemirror_mode": {
    "name": "ipython",
    "version": 2
   },
   "file_extension": ".py",
   "mimetype": "text/x-python",
   "name": "python",
   "nbconvert_exporter": "python",
   "pygments_lexer": "ipython2",
   "version": "2.7.6"
  }
 },
 "nbformat": 4,
 "nbformat_minor": 0
}